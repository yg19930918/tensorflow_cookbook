{
 "cells": [
  {
   "cell_type": "code",
   "execution_count": 2,
   "metadata": {},
   "outputs": [],
   "source": [
    "#Batch and Stochastic Training\n",
    "#This python function illustrates two different training methods: batch and stochastic training. For each model, we will use a regression model that predicts one model variable.\n",
    "#We start by loading the necessary libraries and resetting the computational graph.\n",
    "import matplotlib.pyplot as plt\n",
    "import numpy as np\n",
    "import tensorflow as tf\n",
    "from tensorflow.python.framework import ops\n",
    "ops.reset_default_graph()\n",
    "sess = tf.Session()\n"
   ]
  },
  {
   "cell_type": "code",
   "execution_count": 57,
   "metadata": {},
   "outputs": [],
   "source": [
    "#Stochastic Training\n",
    "x_vals = np.random.normal(1, 0.1, 100)\n",
    "y_vals = np.repeat(10., 100)\n",
    "\n",
    "x_data = tf.placeholder(shape = [1],dtype = tf.float32)\n",
    "y_target = tf.placeholder(shape = [1], dtype = tf.float32)\n"
   ]
  },
  {
   "cell_type": "code",
   "execution_count": 58,
   "metadata": {},
   "outputs": [],
   "source": [
    "#Create variable(one model parameter = A)\n",
    "A = tf.Variable(tf.random_normal(shape = [1]))\n",
    "\n",
    "#Add operation to graph\n",
    "my_output = tf.multiply(x_data, A)\n"
   ]
  },
  {
   "cell_type": "code",
   "execution_count": 59,
   "metadata": {},
   "outputs": [],
   "source": [
    "#Add L2 loss operation to graph\n",
    "loss = tf.square(my_output - y_target)\n"
   ]
  },
  {
   "cell_type": "code",
   "execution_count": 60,
   "metadata": {},
   "outputs": [],
   "source": [
    "#Create Optimizer\n",
    "my_opt = tf.train.GradientDescentOptimizer(0.02)\n",
    "train_step = my_opt.minimize(loss)\n",
    "\n",
    "#Initialize variable\n",
    "init = tf.global_variables_initializer()\n",
    "sess.run(init)"
   ]
  },
  {
   "cell_type": "code",
   "execution_count": 61,
   "metadata": {},
   "outputs": [
    {
     "name": "stdout",
     "output_type": "stream",
     "text": [
      "Step #5 A = [0.9159432]\n",
      "Loss = [81.68012]\n",
      "Step #10 A = [2.5540202]\n",
      "Loss = [53.958786]\n",
      "Step #15 A = [3.9151933]\n",
      "Loss = [35.109352]\n",
      "Step #20 A = [5.0311294]\n",
      "Loss = [27.793268]\n",
      "Step #25 A = [5.9190717]\n",
      "Loss = [7.765018]\n",
      "Step #30 A = [6.6442976]\n",
      "Loss = [7.693056]\n",
      "Step #35 A = [7.1656823]\n",
      "Loss = [2.0179064]\n",
      "Step #40 A = [7.662066]\n",
      "Loss = [1.8009717]\n",
      "Step #45 A = [8.070454]\n",
      "Loss = [11.310465]\n",
      "Step #50 A = [8.386862]\n",
      "Loss = [0.10237661]\n",
      "Step #55 A = [8.668648]\n",
      "Loss = [2.8569303]\n",
      "Step #60 A = [8.8415985]\n",
      "Loss = [5.4438243]\n",
      "Step #65 A = [9.00343]\n",
      "Loss = [6.738447]\n",
      "Step #70 A = [9.127777]\n",
      "Loss = [0.02012886]\n",
      "Step #75 A = [9.273399]\n",
      "Loss = [3.8367941]\n",
      "Step #80 A = [9.340857]\n",
      "Loss = [0.40851352]\n",
      "Step #85 A = [9.38514]\n",
      "Loss = [5.859489]\n",
      "Step #90 A = [9.643757]\n",
      "Loss = [1.4333833]\n",
      "Step #95 A = [9.55982]\n",
      "Loss = [0.92411584]\n",
      "Step #100 A = [9.661545]\n",
      "Loss = [2.611167]\n",
      "[array([81.68012], dtype=float32), array([53.958786], dtype=float32), array([35.109352], dtype=float32), array([27.793268], dtype=float32), array([7.765018], dtype=float32), array([7.693056], dtype=float32), array([2.0179064], dtype=float32), array([1.8009717], dtype=float32), array([11.310465], dtype=float32), array([0.10237661], dtype=float32), array([2.8569303], dtype=float32), array([5.4438243], dtype=float32), array([6.738447], dtype=float32), array([0.02012886], dtype=float32), array([3.8367941], dtype=float32), array([0.40851352], dtype=float32), array([5.859489], dtype=float32), array([1.4333833], dtype=float32), array([0.92411584], dtype=float32), array([2.611167], dtype=float32)]\n"
     ]
    }
   ],
   "source": [
    "#Train Model\n",
    "#We run the training step for 100 iterations and print off the value of A and the loss every 5 iterations.\n",
    "loss_stochastic = []\n",
    "#Run loop\n",
    "for i in range(100):\n",
    "    rand_index = np.random.choice(100)\n",
    "    rand_x = [x_vals[rand_index]]\n",
    "    rand_y = [y_vals[rand_index]]\n",
    "    sess.run(train_step, feed_dict = {x_data:rand_x, y_target:rand_y})\n",
    "    if(i + 1)%5 ==0:\n",
    "        print('Step #' + str(i + 1) + ' A = ' + str(sess.run(A)))\n",
    "        temp_loss = sess.run(loss, feed_dict = {x_data: rand_x, y_target: rand_y})\n",
    "        print('Loss = ' + str(temp_loss))\n",
    "        loss_stochastic.append(temp_loss)\n",
    "print(loss_stochastic)\n",
    "\n",
    "                                      "
   ]
  },
  {
   "cell_type": "code",
   "execution_count": 48,
   "metadata": {},
   "outputs": [],
   "source": [
    "#Batch Training\n",
    "#Re-initialize graph\n",
    "ops.reset_default_graph()\n",
    "sess = tf.Session()\n",
    "\n"
   ]
  },
  {
   "cell_type": "code",
   "execution_count": 49,
   "metadata": {},
   "outputs": [],
   "source": [
    "#Declare batch size\n",
    "batch_size = 20\n"
   ]
  },
  {
   "cell_type": "code",
   "execution_count": 50,
   "metadata": {},
   "outputs": [],
   "source": [
    "#Create data\n",
    "#Note that here, our placeholders have shape [None, 1], where the batch size will take the place of the None dimension.\n",
    "x_vals = np.random.normal(1, 0.1, 100)\n",
    "y_vals = np.repeat(10., 100)\n",
    "x_data = tf.placeholder(shape = [None, 1], dtype = tf.float32)\n",
    "y_target = tf.placeholder(shape = [None,1], dtype = tf.float32)\n",
    "\n"
   ]
  },
  {
   "cell_type": "code",
   "execution_count": 51,
   "metadata": {},
   "outputs": [],
   "source": [
    "#Model Variables and Operation\n",
    "#We create the one variable in the graph, A. We then create the model operation, which is just the multiplication of the input data and A.\n",
    "#Create variable(one model parameter = A)\n",
    "A = tf.Variable(tf.random_normal(shape = [1,1]))\n",
    "\n",
    "#Add operation to graph\n",
    "my_output = tf.matmul(x_data, A)\n"
   ]
  },
  {
   "cell_type": "code",
   "execution_count": 52,
   "metadata": {},
   "outputs": [],
   "source": [
    "#Add L2 loss operation to graph\n",
    "loss = tf.reduce_mean(tf.square(my_output - y_target))\n"
   ]
  },
  {
   "cell_type": "code",
   "execution_count": 53,
   "metadata": {},
   "outputs": [],
   "source": [
    "#Initialize variables\n",
    "init = tf.global_variables_initializer()\n",
    "sess.run(init)\n",
    "\n",
    "#Create Optimizer\n",
    "my_opt = tf.train.GradientDescentOptimizer(0.02)\n",
    "train_step = my_opt.minimize(loss)\n"
   ]
  },
  {
   "cell_type": "code",
   "execution_count": 54,
   "metadata": {},
   "outputs": [
    {
     "name": "stdout",
     "output_type": "stream",
     "text": [
      "Step #5A =[[2.0224857]]\n",
      "Loss = 64.18443\n",
      "Step #10A =[[3.4860117]]\n",
      "Loss = 43.73087\n",
      "Step #15A =[[4.6847167]]\n",
      "Loss = 30.78685\n",
      "Step #20A =[[5.6521277]]\n",
      "Loss = 17.52068\n",
      "Step #25A =[[6.44606]]\n",
      "Loss = 13.742244\n",
      "Step #30A =[[7.088358]]\n",
      "Loss = 9.047419\n",
      "Step #35A =[[7.60738]]\n",
      "Loss = 6.3763986\n",
      "Step #40A =[[8.030198]]\n",
      "Loss = 5.0242534\n",
      "Step #45A =[[8.391668]]\n",
      "Loss = 2.7122328\n",
      "Step #50A =[[8.655523]]\n",
      "Loss = 2.9009461\n",
      "Step #55A =[[8.862179]]\n",
      "Loss = 1.4940941\n",
      "Step #60A =[[9.0406]]\n",
      "Loss = 1.955074\n",
      "Step #65A =[[9.185046]]\n",
      "Loss = 1.7676773\n",
      "Step #70A =[[9.345548]]\n",
      "Loss = 1.6444972\n",
      "Step #75A =[[9.435184]]\n",
      "Loss = 0.8650602\n",
      "Step #80A =[[9.504003]]\n",
      "Loss = 0.8022664\n",
      "Step #85A =[[9.597457]]\n",
      "Loss = 1.4245138\n",
      "Step #90A =[[9.659575]]\n",
      "Loss = 1.2728412\n",
      "Step #95A =[[9.733512]]\n",
      "Loss = 1.5125976\n",
      "Step #100A =[[9.756245]]\n",
      "Loss = 0.891832\n",
      "[64.18443, 43.73087, 30.78685, 17.52068, 13.742244, 9.047419, 6.3763986, 5.0242534, 2.7122328, 2.9009461, 1.4940941, 1.955074, 1.7676773, 1.6444972, 0.8650602, 0.8022664, 1.4245138, 1.2728412, 1.5125976, 0.891832]\n"
     ]
    }
   ],
   "source": [
    "#Train Model\n",
    "loss_batch = []\n",
    "# Run Loop\n",
    "for i in range(100):\n",
    "    rand_index = np.random.choice(100, size = batch_size)\n",
    "    rand_x = np.transpose([x_vals[rand_index]])\n",
    "    rand_y = np.transpose([y_vals[rand_index]])\n",
    "    sess.run(train_step, feed_dict = {x_data:rand_x, y_target:rand_y})\n",
    "    if(i + 1)%5 == 0:\n",
    "        print('Step #' + str(i +1) + 'A =' + str(sess.run(A)))\n",
    "        temp_loss = sess.run(loss, feed_dict = {x_data:rand_x, y_target:rand_y})\n",
    "        print('Loss = '+ str(temp_loss))\n",
    "        loss_batch.append(temp_loss)\n",
    "print(loss_batch)"
   ]
  },
  {
   "cell_type": "code",
   "execution_count": 62,
   "metadata": {},
   "outputs": [
    {
     "data": {
      "image/png": "[encoded data removed]",
      "text/plain": [
       "<Figure size 432x288 with 1 Axes>"
      ]
     },
     "metadata": {},
     "output_type": "display_data"
    }
   ],
   "source": [
    "#Plot Sochastic vs Batch Training\n",
    "plt.plot(range(0,100,5), loss_stochastic, 'b-', label = 'Stochastic Loss')\n",
    "plt.plot(range(0,100,5),loss_batch, 'r--', label = 'Batch Loss, size = 20')\n",
    "plt.legend(loc = 'upper right',prop={'size':10})\n",
    "plt.show()"
   ]
  }
 ],
 "metadata": {
  "kernelspec": {
   "display_name": "Python 3",
   "language": "python",
   "name": "python3"
  },
  "language_info": {
   "codemirror_mode": {
    "name": "ipython",
    "version": 3
   },
   "file_extension": ".py",
   "mimetype": "text/x-python",
   "name": "python",
   "nbconvert_exporter": "python",
   "pygments_lexer": "ipython3",
   "version": "3.6.5"
  }
 },
 "nbformat": 4,
 "nbformat_minor": 2
}
