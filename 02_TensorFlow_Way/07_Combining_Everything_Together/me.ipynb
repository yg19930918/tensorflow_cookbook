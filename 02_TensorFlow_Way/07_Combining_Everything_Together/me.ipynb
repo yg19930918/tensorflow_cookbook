{
 "cells": [
  {
   "cell_type": "code",
   "execution_count": 2,
   "metadata": {},
   "outputs": [],
   "source": [
    "import matplotlib.pyplot as plt\n",
    "import numpy as np\n",
    "from sklearn import datasets\n",
    "import tensorflow as tf\n",
    "from tensorflow.python.framework import ops\n",
    "ops.reset_default_graph()\n",
    "\n"
   ]
  },
  {
   "cell_type": "code",
   "execution_count": 4,
   "metadata": {},
   "outputs": [],
   "source": [
    "#Load Iris Data\n",
    "#iris.target = {0,1,2}, where '0' is setosa\n",
    "#iris.data ~[sepal.width, sepal.length,pedal.width,pwdal,length]\n",
    "iris = datasets.load_iris()\n",
    "binary_target = np.array([1.if x == 0 else 0. for x in iris.target])\n",
    "iris_2d = np.array([[x[2], x[3]] for x in iris.data])\n"
   ]
  },
  {
   "cell_type": "code",
   "execution_count": 6,
   "metadata": {},
   "outputs": [],
   "source": [
    "batch_size = 20"
   ]
  },
  {
   "cell_type": "code",
   "execution_count": 8,
   "metadata": {},
   "outputs": [],
   "source": [
    "#Create graph\n",
    "sess = tf.Session()\n"
   ]
  },
  {
   "cell_type": "code",
   "execution_count": 14,
   "metadata": {},
   "outputs": [],
   "source": [
    "#Declare placeholders\n",
    "x1_data = tf.placeholder(shape = [None, 1], dtype = tf.float32)\n",
    "x2_data = tf.placeholder(shape = [None, 1], dtype = tf.float32)\n",
    "y_target = tf.placeholder(shape = [None, 1], dtype = tf.float32)\n"
   ]
  },
  {
   "cell_type": "code",
   "execution_count": 16,
   "metadata": {},
   "outputs": [],
   "source": [
    "#Model Variables\n",
    "#Creat variable A and b\n",
    "A = tf.Variable(tf.random_normal(shape = [1, 1]))\n",
    "b = tf.Variable(tf.random_normal(shape = [1, 1]))\n"
   ]
  },
  {
   "cell_type": "code",
   "execution_count": 17,
   "metadata": {},
   "outputs": [],
   "source": [
    "#Model Operations\n",
    "#A line can be defined as $x_{1}=A\\cdot x_{2} + b$. To create a linear separator, we would like to see which side of the line the data points fall. There are three cases:\n",
    "#A point exactly on the line will satisfy: $0 = x_{1} - (A\\cdot x_{2} + b)$\n",
    "#A point above the line satisfies: $0 &gt; x_{1} - (A\\cdot x_{2} + b)$\n",
    "#A point below the line satisfies: $0 &lt; x_{1} - (A\\cdot x_{2} + b)$\n",
    "#We will make the output of this model:\n",
    "#$x_{1} - (A \\cdot x_{2} + b)$$\n",
    "#Then the predictions will be the sign of that output:\n",
    "#$$Prediction(x_{1},x_{2}) = sign(x_{1} - (A \\cdot x_{2} + b))$$\n",
    "#So we add the corresponding operations to the computational graph."
   ]
  },
  {
   "cell_type": "code",
   "execution_count": 22,
   "metadata": {},
   "outputs": [],
   "source": [
    "#Add model to graph\n",
    "#x1 - A*x2 + b\n",
    "my_mult = tf.matmul(x2_data, A)\n",
    "my_add = tf.add(my_mult, b)\n",
    "my_output = tf.subtract(x1_data, my_add)\n"
   ]
  },
  {
   "cell_type": "code",
   "execution_count": 25,
   "metadata": {},
   "outputs": [],
   "source": [
    "#Add classification loss(cross entropy)\n",
    "xentropy = tf.nn.sigmoid_cross_entropy_with_logits(logits = my_output, labels = y_target)\n",
    "    \n",
    "    "
   ]
  },
  {
   "cell_type": "code",
   "execution_count": 30,
   "metadata": {},
   "outputs": [],
   "source": [
    "#Create Opimizer\n",
    "my_opt = tf.train.GradientDescentOptimizer(0.05)\n",
    "train_step = my_opt.minimize(xentropy) \n",
    "\n",
    "# Initialize variables\n",
    "init= tf.global_variables_initializer()\n",
    "sess.run(init)"
   ]
  },
  {
   "cell_type": "code",
   "execution_count": 39,
   "metadata": {},
   "outputs": [
    {
     "name": "stdout",
     "output_type": "stream",
     "text": [
      "Step #200 A = [[11.111286]], b = [[-5.4145513]]\n",
      "Step #400 A = [[11.818044]], b = [[-5.8802347]]\n",
      "Step #600 A = [[12.378989]], b = [[-6.299849]]\n",
      "Step #800 A = [[12.820606]], b = [[-6.667427]]\n",
      "Step #1000 A = [[13.178859]], b = [[-7.049118]]\n"
     ]
    }
   ],
   "source": [
    "#Run Classification\n",
    "#Run loop\n",
    "for i in range(1000):\n",
    "    rand_index = np.random.choice(len(iris_2d), size = batch_size)\n",
    "    #rand_x = np.transpose([iris_2d[rand_index]])\n",
    "    rand_x = iris_2d[rand_index]\n",
    "    rand_x1 = np.array([[x[0]] for x in rand_x])\n",
    "    rand_x2 = np.array([[x[1]] for x in rand_x])\n",
    "    #rand_y = np.transpose([binary_target[rand_index]]\n",
    "    rand_y =np.array([[y] for y in binary_target[rand_index]])\n",
    "    sess.run(train_step,  feed_dict = {x1_data:rand_x1, x2_data:rand_x2, y_target: rand_y})\n",
    "    if (i + 1) %200 == 0:\n",
    "        print('Step #' + str(i+1) + ' A = ' + str(sess.run(A)) + ', b = ' + str(sess.run(b)))\n",
    "    "
   ]
  },
  {
   "cell_type": "code",
   "execution_count": 45,
   "metadata": {},
   "outputs": [
    {
     "data": {
      "image/png": "[encoded data removed]",
      "text/plain": [
       "<Figure size 432x288 with 1 Axes>"
      ]
     },
     "metadata": {},
     "output_type": "display_data"
    }
   ],
   "source": [
    "#Visualize Results\n",
    "#Pull out slope/intercept\n",
    "[[slope]] = sess.run(A)\n",
    "[[intercept]] = sess.run(b)\n",
    "\n",
    "#Create fitted line\n",
    "x = np.linspace(0,3,num = 50)\n",
    "ablineValues = []\n",
    "for i in x:\n",
    "    ablineValues.append(slope*i + intercept)\n",
    "    \n",
    "#Plot the fitted line over data\n",
    "setosa_x = [a[1] for i,a in enumerate(iris_2d) if binary_target[i] == 1]\n",
    "setosa_y = [a[0] for i,a in enumerate(iris_2d) if binary_target[i] == 1]\n",
    "non_setosa_x = [a[1] for i,a in enumerate(iris_2d) if binary_target[i] == 0]\n",
    "non_setosa_y = [a[0] for i,a in enumerate(iris_2d) if binary_target[i] == 0]\n",
    "plt.plot(setosa_x, setosa_y, 'rx', ms = 10, mew = 2, label = 'setosa')\n",
    "plt.plot(non_setosa_x, non_setosa_y, 'ro', label = 'Non-setosa')\n",
    "plt.plot(x, ablineValues, 'b-')\n",
    "plt.xlim([0.0, 2.7])\n",
    "plt.ylim([0.0, 7.1])\n",
    "plt.suptitle('Linear Separator For I.setaso', fontsize = 20)\n",
    "plt.xlabel('Petal Length')\n",
    "plt.ylabel('Petal Width')\n",
    "plt.legend(loc = 'lower right')\n",
    "plt.show()"
   ]
  }
 ],
 "metadata": {
  "kernelspec": {
   "display_name": "Python 3",
   "language": "python",
   "name": "python3"
  },
  "language_info": {
   "codemirror_mode": {
    "name": "ipython",
    "version": 3
   },
   "file_extension": ".py",
   "mimetype": "text/x-python",
   "name": "python",
   "nbconvert_exporter": "python",
   "pygments_lexer": "ipython3",
   "version": "3.6.5"
  }
 },
 "nbformat": 4,
 "nbformat_minor": 2
}
