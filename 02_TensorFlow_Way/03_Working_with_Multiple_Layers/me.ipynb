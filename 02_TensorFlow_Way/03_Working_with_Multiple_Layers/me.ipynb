{
 "cells": [
  {
   "cell_type": "code",
   "execution_count": 3,
   "metadata": {},
   "outputs": [],
   "source": [
    "import matplotlib.pyplot as plt\n",
    "import numpy as np\n",
    "import tensorflow as tf\n",
    "import os\n",
    "from tensorflow.python.framework import ops\n",
    "ops.reset_default_graph()\n",
    "sess = tf.Session()\n",
    "\n"
   ]
  },
  {
   "cell_type": "code",
   "execution_count": 5,
   "metadata": {},
   "outputs": [],
   "source": [
    "# Create a small random 'image' of size 4*4\n",
    "x_shape = [1, 4, 4, 1]\n",
    "x_val = np.random.uniform(size = x_shape)\n"
   ]
  },
  {
   "cell_type": "code",
   "execution_count": 6,
   "metadata": {},
   "outputs": [],
   "source": [
    "#Crate the Data Placeholder\n",
    "x_data = tf.placeholder(tf.float32, shape = x_shape)\n"
   ]
  },
  {
   "cell_type": "code",
   "execution_count": 8,
   "metadata": {},
   "outputs": [],
   "source": [
    "#First Layer:Moving Window(convolution)\n",
    "#Our first layer will be a spatial moving window of size[2*2] with stride 2\n",
    "#(in both height and width directions)\n",
    "#To make this a moving window average, the value of the filter will be all 0.25\n",
    "#Create a layer \n",
    "my_filter = tf.constant(0.25, shape = [2, 2, 1, 1])\n",
    "my_strides = [1, 2, 2, 1]\n",
    "mov_avg_layer = tf.nn.conv2d(x_data, my_filter, my_strides,\n",
    "                            padding = 'SAME', name = 'Moving_Avg_Window')\n"
   ]
  },
  {
   "cell_type": "code",
   "execution_count": 10,
   "metadata": {},
   "outputs": [],
   "source": [
    "#Second Layer:Custom\n",
    "#Our second layer will be a custom layer.\n",
    "#Define a custon layer which will be sigmoid(Ax + b) where\n",
    "#x is a 2*2 matrix and A and b are 2*2 matrices\n",
    "def custom_layer(input_matrix):\n",
    "    input_matrix_squeezed = tf.squeeze(input_matrix)\n",
    "    A = tf.constant([[1., 2.],[-1., 3.]])\n",
    "    b = tf.constant(1., shape = [2,2])\n",
    "    temp1 = tf.matmul(A, input_matrix_squeezed)\n",
    "    temp = tf.add(temp1, b)\n",
    "    return(tf.sigmoid(temp))\n",
    "\n",
    "#Add custom layer tp graph\n",
    "with tf.name_scope('Custom_Layer') as scope:\n",
    "    custom_layer1 = custom_layer(mov_avg_layer)\n",
    "    "
   ]
  },
  {
   "cell_type": "code",
   "execution_count": 13,
   "metadata": {},
   "outputs": [
    {
     "name": "stdout",
     "output_type": "stream",
     "text": [
      "[[[[0.22739495]\n",
      "   [0.5254139 ]]\n",
      "\n",
      "  [[0.57226175]\n",
      "   [0.6290983 ]]]]\n"
     ]
    }
   ],
   "source": [
    "#Run output\n",
    "#The output shoule be an array that is 2*2, but size (1,2,2,1)\n",
    "print(sess.run(mov_avg_layer, feed_dict = {x_data: x_val}))"
   ]
  },
  {
   "cell_type": "code",
   "execution_count": 14,
   "metadata": {},
   "outputs": [
    {
     "name": "stdout",
     "output_type": "stream",
     "text": [
      "[[0.91466075 0.9417837 ]\n",
      " [0.92339474 0.913874  ]]\n"
     ]
    }
   ],
   "source": [
    "#After custom operation, size is now 2*2(squeezes out size 1 dims), see below:\n",
    "print(sess.run(custom_layer1, feed_dict = {x_data: x_val}))"
   ]
  },
  {
   "cell_type": "code",
   "execution_count": null,
   "metadata": {},
   "outputs": [],
   "source": []
  }
 ],
 "metadata": {
  "kernelspec": {
   "display_name": "Python 3",
   "language": "python",
   "name": "python3"
  },
  "language_info": {
   "codemirror_mode": {
    "name": "ipython",
    "version": 3
   },
   "file_extension": ".py",
   "mimetype": "text/x-python",
   "name": "python",
   "nbconvert_exporter": "python",
   "pygments_lexer": "ipython3",
   "version": "3.6.5"
  }
 },
 "nbformat": 4,
 "nbformat_minor": 2
}
