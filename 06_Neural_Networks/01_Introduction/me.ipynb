{
 "cells": [
  {
   "cell_type": "code",
   "execution_count": 5,
   "metadata": {},
   "outputs": [],
   "source": [
    "import tensorflow as tf\n",
    "from tensorflow.python.framework import ops\n",
    "ops.reset_default_graph()\n"
   ]
  },
  {
   "cell_type": "code",
   "execution_count": 17,
   "metadata": {
    "scrolled": true
   },
   "outputs": [
    {
     "name": "stdout",
     "output_type": "stream",
     "text": [
      "\n",
      "Optimizing Two Gate uotput to 50.\n",
      "5.4*5.0+1.88=28.88\n",
      "7.512*5.0+2.3024=39.8624\n",
      "8.52576*5.0+2.5051522=45.133953\n",
      "9.012364*5.0+2.6024733=47.664295\n",
      "9.2459345*5.0+2.6491873=48.87886\n",
      "9.358048*5.0+2.67161=49.461853\n",
      "9.411863*5.0+2.682373=49.74169\n",
      "9.437695*5.0+2.687539=49.87601\n",
      "9.450093*5.0+2.690019=49.940483\n",
      "9.456045*5.0+2.6912093=49.971436\n"
     ]
    }
   ],
   "source": [
    "#start Graph Session\n",
    "sess = tf.Session()\n",
    "\n",
    "a = tf.Variable(tf.constant(1.))\n",
    "b = tf.Variable(tf.constant(1.))\n",
    "x_val = 5.\n",
    "x_data = tf.placeholder(dtype = tf.float32)\n",
    "\n",
    "two_gate = tf.add(tf.multiply(a, x_data), b)\n",
    "\n",
    "\n",
    "\n",
    "#Declare the loss function as the difference between \n",
    "#the output and a target value, 50.\n",
    "loss = tf.square(tf.subtract(two_gate , 50.))\n",
    "\n",
    "#Initialize variables\n",
    "init = tf.global_variables_initializer()\n",
    "sess.run(init)\n",
    "\n",
    "#Declare optimizer\n",
    "my_opt = tf.train.GradientDescentOptimizer(0.01)\n",
    "train_step = my_opt.minimize(loss)\n",
    "\n",
    "#Run loop across gate\n",
    "print('\\nOptimizing Two Gate uotput to 50.')\n",
    "for i in range(10):\n",
    "    sess.run(train_step, feed_dict = {x_data : x_val})\n",
    "    a_val,b_val = (sess.run(a),sess.run(b))\n",
    "    two_gate_output = sess.run(two_gate, feed_dict = {x_data:x_val})\n",
    "    print(str(a_val) + '*'+ str(x_val) + '+'+ str(b_val) + '=' +str(two_gate_output))\n",
    "    \n",
    "    "
   ]
  }
 ],
 "metadata": {
  "kernelspec": {
   "display_name": "Python 3",
   "language": "python",
   "name": "python3"
  },
  "language_info": {
   "codemirror_mode": {
    "name": "ipython",
    "version": 3
   },
   "file_extension": ".py",
   "mimetype": "text/x-python",
   "name": "python",
   "nbconvert_exporter": "python",
   "pygments_lexer": "ipython3",
   "version": "3.6.5"
  }
 },
 "nbformat": 4,
 "nbformat_minor": 2
}
