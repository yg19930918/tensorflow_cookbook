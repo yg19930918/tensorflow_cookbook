{
 "cells": [
  {
   "cell_type": "code",
   "execution_count": 2,
   "metadata": {},
   "outputs": [],
   "source": [
    "\n",
    "#Implementing Different Layers\n",
    "#we will illustrate how to use different types of layers in TensorFlow\n",
    "#The layers of interest are:\n",
    "#Convolutional Layer\n",
    "#Activation Layer\n",
    "#Max-Pool Layer\n",
    "#Fully Connected Layer\n",
    "#We will generate two different data sets for this script, a 1-D data set (row of data) and a 2-D data set (similar to picture)\n",
    "import tensorflow as tf\n",
    "import matplotlib.pyplot as plt\n",
    "import csv\n",
    "import os\n",
    "import random\n",
    "import numpy as np\n",
    "from tensorflow.python.framework import ops\n",
    "\n"
   ]
  },
  {
   "cell_type": "code",
   "execution_count": 4,
   "metadata": {},
   "outputs": [],
   "source": [
    "#1D-data\n",
    "#Create graph session\n",
    "ops.reset_default_graph()\n",
    "sess = tf.Session()\n"
   ]
  },
  {
   "cell_type": "code",
   "execution_count": 6,
   "metadata": {},
   "outputs": [],
   "source": [
    "#parameters for the run\n",
    "data_size = 25\n",
    "conv_size = 5\n",
    "maxpool_size = 5\n",
    "stride_size = 1\n",
    "\n",
    "#Ensure reproducibility\n",
    "seed = 13\n",
    "np.random.seed(seed)\n",
    "tf.set_random_seed(seed)\n",
    "\n",
    "#Generate 1D data\n",
    "data_1d = np.random.normal(size = data_size)\n",
    "\n",
    "#Placeholder\n",
    "x_input_1d = tf.placeholder(dtype = tf.float32, shape = [data_size])\n",
    "\n"
   ]
  },
  {
   "cell_type": "code",
   "execution_count": 7,
   "metadata": {},
   "outputs": [],
   "source": [
    "#-----convolution------\n",
    "def conc_layer_1d(input_1d, my_filter, stride):\n",
    "    #tensorflow's 'conv2d()' function only works with 4D arrays\n",
    "    # [batch#, width, height, channels], we have 1 batch, and\n",
    "    # width = 1, but height = the length of the input, and 1 channel.\n",
    "    # So next we create the 4D array by inserting dimension 1's.\n",
    "    input_2d = tf.expand_dims(input_1d, 0)\n",
    "    input_3d = tf.expand_dins(input_2d, 0)\n",
    "    input_3d = tf_expand_dims(input_3d, 3)\n",
    "    # Perform convolution with stride = 1, if we wanted to increase the stride,\n",
    "    # to say '2', then strides=[1,1,2,1]\n",
    "    convolution_output = tf.nn.conv2d(input_4d, filter = my_filter, strides = [1, 1, stride, 1], padding = [\"VALID\"])\n",
    "    #Get rid of extra dimensions\n",
    "    conv_output_1d = tf.squeeze(convolution_output)\n",
    "    return(conv_output_1d)\n",
    "\n",
    "#Create filter for convolution.\n",
    "my_filter = tf.Variable(tf.random_normal(shape))\n",
    "\n"
   ]
  },
  {
   "cell_type": "code",
   "execution_count": null,
   "metadata": {},
   "outputs": [],
   "source": []
  }
 ],
 "metadata": {
  "kernelspec": {
   "display_name": "Python 3",
   "language": "python",
   "name": "python3"
  },
  "language_info": {
   "codemirror_mode": {
    "name": "ipython",
    "version": 3
   },
   "file_extension": ".py",
   "mimetype": "text/x-python",
   "name": "python",
   "nbconvert_exporter": "python",
   "pygments_lexer": "ipython3",
   "version": "3.6.5"
  }
 },
 "nbformat": 4,
 "nbformat_minor": 2
}
