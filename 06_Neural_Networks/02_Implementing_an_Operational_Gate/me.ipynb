{
 "cells": [
  {
   "cell_type": "code",
   "execution_count": 71,
   "metadata": {},
   "outputs": [],
   "source": [
    "import tensorflow as tf\n",
    "import numpy as np\n",
    "import matplotlib.pyplot as plt\n",
    "from tensorflow.python.framework import ops\n",
    "ops.reset_default_graph()\n"
   ]
  },
  {
   "cell_type": "code",
   "execution_count": 72,
   "metadata": {},
   "outputs": [],
   "source": [
    "#Start Graph Session\n",
    "sess = tf.Session()\n",
    "tf.set_random_seed(5)\n",
    "#??\n",
    "np.random.seed(42)"
   ]
  },
  {
   "cell_type": "code",
   "execution_count": 73,
   "metadata": {},
   "outputs": [],
   "source": [
    "batch_size = 50\n",
    "\n",
    "a1 = tf.Variable(tf.random_normal(shape = [1,1]))\n",
    "b1 = tf.Variable(tf.random_uniform(shape = [1,1]))\n",
    "a2 = tf.Variable(tf.random_normal(shape = [1,1]))\n",
    "b2 = tf.Variable(tf.random_uniform(shape = [1,1]))\n",
    "x = np.random.normal(2,0.1, 500)\n",
    "with tf.name_scope('inputs'):\n",
    "    x_data = tf.placeholder(shape = [None, 1], dtype = tf.float32,name = 'x')\n",
    "sigmoid_activation = tf.sigmoid(tf.add(tf.matmul(x_data, a1), b1))\n",
    "\n",
    "relu_activation = tf.nn.relu(tf.add(tf.matmul(x_data, a2), b2))"
   ]
  },
  {
   "cell_type": "code",
   "execution_count": 74,
   "metadata": {},
   "outputs": [],
   "source": [
    "#Declare the loss function as the difference between \n",
    "#the output adn target value,0.75.\n",
    "#x = tf.constant([[1., 1.], [2., 2.]])\n",
    "#tf.reduce_mean(x)  # 1.5\n",
    "#tf.reduce_mean(x, 0)  # [1.5, 1.5]\n",
    "#tf.reduce_mean(x, 1)  # [1.,  2.]\n",
    "\n",
    "loss1 = tf.reduce_mean(tf.square(tf.subtract(sigmoid_activation, 0.75)))\n",
    "loss2 = tf.reduce_mean(tf.square(tf.subtract(relu_activation, 0.75)))\n"
   ]
  },
  {
   "cell_type": "code",
   "execution_count": 75,
   "metadata": {},
   "outputs": [],
   "source": [
    "#Initialize variables\n",
    "init = tf.global_variables_initializer()\n",
    "sess.run(init)"
   ]
  },
  {
   "cell_type": "code",
   "execution_count": 76,
   "metadata": {},
   "outputs": [],
   "source": [
    "my_opt = tf.train.GradientDescentOptimizer(0.01)\n",
    "train_step_sigmoid = my_opt.minimize(loss1)\n",
    "train_step_relu = my_opt.minimize(loss2)\n"
   ]
  },
  {
   "cell_type": "code",
   "execution_count": 77,
   "metadata": {},
   "outputs": [
    {
     "name": "stdout",
     "output_type": "stream",
     "text": [
      "\n",
      "Optimizing sigmoid AND Relu Output to 0.75\n",
      "sigmoid = 0.12655208 relu = 2.0227606\n",
      "sigmoid = 0.17863758 relu = 0.7530296\n",
      "sigmoid = 0.24769811 relu = 0.7492897\n",
      "sigmoid = 0.3446748 relu = 0.7499546\n",
      "sigmoid = 0.4400661 relu = 0.7539999\n",
      "sigmoid = 0.5236898 relu = 0.754772\n",
      "sigmoid = 0.58373857 relu = 0.7508698\n",
      "sigmoid = 0.62733483 relu = 0.7470234\n",
      "sigmoid = 0.6549499 relu = 0.75180537\n",
      "sigmoid = 0.67452586 relu = 0.75470716\n"
     ]
    }
   ],
   "source": [
    "#Run loop across gate\n",
    "print('\\nOptimizing sigmoid AND Relu Output to 0.75')\n",
    "loss_vec_sigmoid = []\n",
    "loss_vec_relu = []\n",
    "for i in range(500):\n",
    "    rand_indices = np.random.choice(len(x), size = batch_size)\n",
    "    x_vals = np.transpose([x[rand_indices]])\n",
    "    sess.run(train_step_sigmoid, feed_dict = {x_data: x_vals})\n",
    "    sess.run(train_step_relu, feed_dict = {x_data: x_vals})\n",
    "    \n",
    "    loss_vec_sigmoid.append(sess.run(loss1, feed_dict = {x_data: x_vals}))\n",
    "    loss_vec_relu.append(sess.run(loss2, feed_dict = {x_data: x_vals}))\n",
    "    \n",
    "    sigmoid_output = np.mean(sess.run(sigmoid_activation, feed_dict = {x_data: x_vals}))\n",
    "    relu_output = np.mean(sess.run(relu_activation, feed_dict = {x_data: x_vals}))\n",
    "    \n",
    "    if i%50 == 0:\n",
    "        print('sigmoid = '+ str(np.mean(sigmoid_output)) + ' relu = '+ str(np.mean(relu_output)))\n",
    "        "
   ]
  },
  {
   "cell_type": "code",
   "execution_count": 78,
   "metadata": {},
   "outputs": [
    {
     "data": {
      "image/png": "[encoded data removed]",
      "text/plain": [
       "<Figure size 432x288 with 1 Axes>"
      ]
     },
     "metadata": {},
     "output_type": "display_data"
    }
   ],
   "source": [
    "#Plot the loss\n",
    "plt.plot(loss_vec_sigmoid, 'k-', label = 'Sigmoid Activation')\n",
    "plt.plot(loss_vec_relu, 'r--', label = 'Relu Activation')\n",
    "plt.ylim([0, 1.0])\n",
    "plt.title('Loss per Generation')\n",
    "plt.xlabel('Generation')\n",
    "plt.ylabel('Loss')\n",
    "plt.legend(loc = 'upper right')\n",
    "plt.show()"
   ]
  }
 ],
 "metadata": {
  "kernelspec": {
   "display_name": "Python 3",
   "language": "python",
   "name": "python3"
  },
  "language_info": {
   "codemirror_mode": {
    "name": "ipython",
    "version": 3
   },
   "file_extension": ".py",
   "mimetype": "text/x-python",
   "name": "python",
   "nbconvert_exporter": "python",
   "pygments_lexer": "ipython3",
   "version": "3.6.5"
  }
 },
 "nbformat": 4,
 "nbformat_minor": 2
}
