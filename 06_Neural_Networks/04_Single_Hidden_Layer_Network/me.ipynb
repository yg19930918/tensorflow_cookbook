{
 "cells": [
  {
   "cell_type": "code",
   "execution_count": 3,
   "metadata": {},
   "outputs": [],
   "source": [
    "#Implementing a one-layer Neural Network\n",
    "import matplotlib.pyplot as plt\n",
    "import numpy as np\n",
    "import tensorflow as tf\n",
    "from sklearn import datasets\n",
    "from tensorflow.python.framework import ops\n"
   ]
  },
  {
   "cell_type": "code",
   "execution_count": 12,
   "metadata": {},
   "outputs": [],
   "source": [
    "ops.reset_default_graph()\n",
    "iris = datasets.load_iris()\n",
    "x_vals = np.array([x[0:3] for x in iris.data])\n",
    "y_vals = np.array([x[3] for x in iris.data])\n"
   ]
  },
  {
   "cell_type": "code",
   "execution_count": 14,
   "metadata": {},
   "outputs": [],
   "source": [
    "# Create graph session\n",
    "sess = tf.Session()"
   ]
  },
  {
   "cell_type": "code",
   "execution_count": 16,
   "metadata": {},
   "outputs": [],
   "source": [
    "# make results reproducible\n",
    "seed = 2\n",
    "tf.set_random_seed(seed)\n",
    "np.random.seed(seed)"
   ]
  },
  {
   "cell_type": "code",
   "execution_count": 18,
   "metadata": {},
   "outputs": [],
   "source": [
    "# Split data into train/set = 80%/20%\n",
    "#replace=True: 可以从a 中反复选取同一个元素。 \n",
    "#replace=False: a 中同一个元素只能被选取一次。\n",
    "#https://blog.csdn.net/silverdemon/article/details/77596343\n",
    "train_indices = np.random.choice(len(x_vals), round(len(x_vals)*0.8), replace = False)\n",
    "test_indices = np.array(list(set(range(len(x_vals)))-set(train_indices)))\n",
    "#np.random.choice抽选的是index\n",
    "x_vals_train = x_vals[train_indices]\n",
    "x_vals_test = x_vals[test_indices]\n",
    "y_vals_train = y_vals[train_indices]\n",
    "y_vals_test = y_vals[test_indices]\n"
   ]
  },
  {
   "cell_type": "code",
   "execution_count": 26,
   "metadata": {},
   "outputs": [],
   "source": [
    "#Normalize by column(min-max norm)\n",
    "def normalize_cols(m):\n",
    "    col_max = m.max(axis = 0)\n",
    "    col_min = m.min(axis = 0)\n",
    "    return (m-col_min)/(col_max-col_min)\n",
    "\n",
    "x_vals_train = np.nan_to_num(normalize_cols(x_vals_train))\n",
    "x_vals_test = np.nan_to_num(normalize_cols(x_vals_test))\n",
    "#why use np.nan_to_num ???\n"
   ]
  },
  {
   "cell_type": "code",
   "execution_count": 28,
   "metadata": {},
   "outputs": [],
   "source": [
    "#Declare batch size\n",
    "batch_size = 50\n",
    "\n",
    "#Initialize placeholders\n",
    "x_data = tf.placeholder(shape = [None, 3], dtype = tf.float32)\n",
    "y_target = tf.placeholder(shape = [None, 1], dtype = tf.float32)\n"
   ]
  },
  {
   "cell_type": "code",
   "execution_count": 35,
   "metadata": {},
   "outputs": [],
   "source": [
    "#Create variables for both NN layer\n",
    "#参考图\n",
    "hidden_layer_nodes = 10\n",
    "A1 = tf.Variable(tf.random_normal(shape = [3,hidden_layer_nodes]))#inputs->hidden nodes\n",
    "b1 = tf.Variable(tf.random_normal(shape = [hidden_layer_nodes])) #one biases for each hidden node\n",
    "A2 = tf.Variable(tf.random_normal(shape = [hidden_layer_nodes,1]))#hidden inputs-> 1 output\n",
    "b2 = tf.Variable(tf.random_normal(shape = [1]))# 1 bias for the output\n",
    "\n",
    "#Declare model operations\n",
    "hidden_output = tf.nn.relu(tf.add(tf.matmul(x_data, A1), b1))\n",
    "final_output = tf.nn.relu(tf.add(tf.matmul(hidden_output, A2), b2))\n",
    "\n",
    "#Declare loss function (MSE)\n",
    "loss = tf.reduce_mean(tf.square(y_target-final_output))\n",
    "\n",
    "#Declare optimizer\n",
    "my_opt = tf.train.GradientDescentOptimizer(0.005)\n",
    "train_step = my_opt.minimize(loss)"
   ]
  },
  {
   "cell_type": "code",
   "execution_count": 97,
   "metadata": {},
   "outputs": [
    {
     "name": "stdout",
     "output_type": "stream",
     "text": [
      "Generation: 50.Loss = 0.36262324\n",
      "Generation: 100.Loss = 0.27875817\n",
      "Generation: 150.Loss = 0.14257848\n",
      "Generation: 200.Loss = 0.178713\n",
      "Generation: 250.Loss = 0.11980855\n",
      "Generation: 300.Loss = 0.12021868\n",
      "Generation: 350.Loss = 0.08024751\n",
      "Generation: 400.Loss = 0.1142622\n",
      "Generation: 450.Loss = 0.121889\n",
      "Generation: 500.Loss = 0.116752\n"
     ]
    }
   ],
   "source": [
    "#Initialize variables\n",
    "init = tf.global_variables_initializer()\n",
    "sess.run(init)\n",
    "\n",
    "#Training loop\n",
    "loss_vec = []\n",
    "test_loss = []\n",
    "for i in range(500):\n",
    "    rand_index = np.random.choice(len(x_vals_train), size = batch_size)\n",
    "    rand_x = x_vals_train[rand_index]\n",
    "    rand_y = np.transpose([y_vals_train[rand_index]])\n",
    "    sess.run(train_step, feed_dict= {x_data:rand_x, y_target:rand_y})\n",
    "    \n",
    "    temp_loss = sess.run(loss, feed_dict={x_data: rand_x, y_target:rand_y})\n",
    "    loss_vec.append(np.sqrt(temp_loss))\n",
    "    \n",
    "    test_temp_loss = sess.run(loss, feed_dict = {x_data:x_vals_test, y_target:np.transpose([y_vals_test])})\n",
    "    test_loss.append(np.sqrt(test_temp_loss))\n",
    "    if(i + 1)%50 == 0:\n",
    "        print('Generation: ' + str(i + 1) + '.Loss = ' + str(temp_loss))\n",
    "        "
   ]
  },
  {
   "cell_type": "code",
   "execution_count": 98,
   "metadata": {},
   "outputs": [
    {
     "data": {
      "image/png": "[encoded data removed]",
      "text/plain": [
       "<Figure size 432x288 with 1 Axes>"
      ]
     },
     "metadata": {},
     "output_type": "display_data"
    }
   ],
   "source": [
    "%matplotlib inline\n",
    "#Plot loss (MSE over time\n",
    "plt.plot(loss_vec, 'k-',label = 'Train Loss')\n",
    "plt.plot(test_loss, 'r--',label = 'Test Loss')\n",
    "plt.title('Loss (MSE) per Generation')\n",
    "plt.legend(loc = 'upper right')\n",
    "plt.xlabel('Generation')\n",
    "plt.ylabel('Loss')\n",
    "plt.show()"
   ]
  },
  {
   "cell_type": "code",
   "execution_count": null,
   "metadata": {},
   "outputs": [],
   "source": []
  }
 ],
 "metadata": {
  "kernelspec": {
   "display_name": "Python 3",
   "language": "python",
   "name": "python3"
  },
  "language_info": {
   "codemirror_mode": {
    "name": "ipython",
    "version": 3
   },
   "file_extension": ".py",
   "mimetype": "text/x-python",
   "name": "python",
   "nbconvert_exporter": "python",
   "pygments_lexer": "ipython3",
   "version": "3.6.5"
  }
 },
 "nbformat": 4,
 "nbformat_minor": 2
}
